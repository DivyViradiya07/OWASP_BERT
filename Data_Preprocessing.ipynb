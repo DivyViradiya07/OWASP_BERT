{
 "cells": [
  {
   "cell_type": "code",
   "execution_count": 1,
   "id": "ab0c3ce5",
   "metadata": {},
   "outputs": [],
   "source": [
    "import json\n",
    "from pathlib import Path\n",
    "import pandas as pd\n",
    "from tqdm import tqdm"
   ]
  },
  {
   "cell_type": "code",
   "execution_count": 2,
   "id": "d8d43d38",
   "metadata": {},
   "outputs": [],
   "source": [
    "# Set path to your QA pairs directory\n",
    "qa_dir = \"QA_Pairs/Owasp_Top10/\""
   ]
  },
  {
   "cell_type": "code",
   "execution_count": 3,
   "id": "a2ee6c3e",
   "metadata": {},
   "outputs": [],
   "source": [
    "# Function to load all QA pairs\n",
    "def load_qa_pairs(directory):\n",
    "    qa_pairs = []\n",
    "    \n",
    "    # Get all JSON files in the directory\n",
    "    json_files = list(Path(directory).glob('*.json'))\n",
    "    \n",
    "    print(f\"Found {len(json_files)} JSON files\")\n",
    "    \n",
    "    for json_file in tqdm(json_files, desc=\"Processing files\"):\n",
    "        try:\n",
    "            with open(json_file, 'r', encoding='utf-8') as f:\n",
    "                data = json.load(f)\n",
    "                \n",
    "                # Extract all QA pairs from all categories\n",
    "                for category, items in data.items():\n",
    "                    if isinstance(items, list):\n",
    "                        for item in items:\n",
    "                            if isinstance(item, dict) and 'question' in item and 'answer' in item:\n",
    "                                # Add filename and category to each QA pair\n",
    "                                item['source_file'] = json_file.name\n",
    "                                item['category'] = category\n",
    "                                qa_pairs.append(item)\n",
    "                                \n",
    "        except Exception as e:\n",
    "            print(f\"Error processing {json_file}: {str(e)}\")\n",
    "    \n",
    "    return qa_pairs"
   ]
  },
  {
   "cell_type": "code",
   "execution_count": 4,
   "id": "20bb7a1d",
   "metadata": {},
   "outputs": [
    {
     "name": "stdout",
     "output_type": "stream",
     "text": [
      "Loading QA pairs...\n",
      "Found 10 JSON files\n"
     ]
    },
    {
     "name": "stderr",
     "output_type": "stream",
     "text": [
      "Processing files: 100%|██████████| 10/10 [00:00<00:00, 1292.15it/s]\n"
     ]
    }
   ],
   "source": [
    "# Load all QA pairs\n",
    "print(\"Loading QA pairs...\")\n",
    "all_qa_pairs = load_qa_pairs(qa_dir)"
   ]
  },
  {
   "cell_type": "code",
   "execution_count": 5,
   "id": "e070aa3d",
   "metadata": {},
   "outputs": [
    {
     "name": "stdout",
     "output_type": "stream",
     "text": [
      "\n",
      "Dataset Overview:\n",
      "Total QA pairs: 2251\n",
      "Categories: 8\n",
      "Source files: 10\n",
      "\n",
      "First few rows:\n"
     ]
    },
    {
     "data": {
      "text/html": [
       "<div>\n",
       "<style scoped>\n",
       "    .dataframe tbody tr th:only-of-type {\n",
       "        vertical-align: middle;\n",
       "    }\n",
       "\n",
       "    .dataframe tbody tr th {\n",
       "        vertical-align: top;\n",
       "    }\n",
       "\n",
       "    .dataframe thead th {\n",
       "        text-align: right;\n",
       "    }\n",
       "</style>\n",
       "<table border=\"1\" class=\"dataframe\">\n",
       "  <thead>\n",
       "    <tr style=\"text-align: right;\">\n",
       "      <th></th>\n",
       "      <th>id</th>\n",
       "      <th>question</th>\n",
       "      <th>answer</th>\n",
       "      <th>intent</th>\n",
       "      <th>type</th>\n",
       "      <th>source_file</th>\n",
       "      <th>category</th>\n",
       "    </tr>\n",
       "  </thead>\n",
       "  <tbody>\n",
       "    <tr>\n",
       "      <th>0</th>\n",
       "      <td>A01-Q001</td>\n",
       "      <td>What is broken access control?</td>\n",
       "      <td>Broken access control refers to a failure in e...</td>\n",
       "      <td>define_broken_access_control</td>\n",
       "      <td>basic_understanding</td>\n",
       "      <td>A01_2021.json</td>\n",
       "      <td>basic_understanding</td>\n",
       "    </tr>\n",
       "    <tr>\n",
       "      <th>1</th>\n",
       "      <td>A01-Q002</td>\n",
       "      <td>Why is broken access control important in cybe...</td>\n",
       "      <td>Broken access control is critical because it c...</td>\n",
       "      <td>importance_broken_access_control</td>\n",
       "      <td>basic_understanding</td>\n",
       "      <td>A01_2021.json</td>\n",
       "      <td>basic_understanding</td>\n",
       "    </tr>\n",
       "    <tr>\n",
       "      <th>2</th>\n",
       "      <td>A01-Q003</td>\n",
       "      <td>What are some examples of broken access contro...</td>\n",
       "      <td>Examples include privilege escalation, insecur...</td>\n",
       "      <td>examples_broken_access_control</td>\n",
       "      <td>basic_understanding</td>\n",
       "      <td>A01_2021.json</td>\n",
       "      <td>basic_understanding</td>\n",
       "    </tr>\n",
       "    <tr>\n",
       "      <th>3</th>\n",
       "      <td>A01-Q017</td>\n",
       "      <td>How is access control different from authentic...</td>\n",
       "      <td>Authentication verifies who a user is, while a...</td>\n",
       "      <td>difference_access_control_authentication</td>\n",
       "      <td>basic_understanding</td>\n",
       "      <td>A01_2021.json</td>\n",
       "      <td>basic_understanding</td>\n",
       "    </tr>\n",
       "    <tr>\n",
       "      <th>4</th>\n",
       "      <td>A01-Q018</td>\n",
       "      <td>What is the role of access control in the SDLC?</td>\n",
       "      <td>Access control should be designed and tested f...</td>\n",
       "      <td>access_control_sdlc_role</td>\n",
       "      <td>basic_understanding</td>\n",
       "      <td>A01_2021.json</td>\n",
       "      <td>basic_understanding</td>\n",
       "    </tr>\n",
       "  </tbody>\n",
       "</table>\n",
       "</div>"
      ],
      "text/plain": [
       "         id                                           question  \\\n",
       "0  A01-Q001                     What is broken access control?   \n",
       "1  A01-Q002  Why is broken access control important in cybe...   \n",
       "2  A01-Q003  What are some examples of broken access contro...   \n",
       "3  A01-Q017  How is access control different from authentic...   \n",
       "4  A01-Q018    What is the role of access control in the SDLC?   \n",
       "\n",
       "                                              answer  \\\n",
       "0  Broken access control refers to a failure in e...   \n",
       "1  Broken access control is critical because it c...   \n",
       "2  Examples include privilege escalation, insecur...   \n",
       "3  Authentication verifies who a user is, while a...   \n",
       "4  Access control should be designed and tested f...   \n",
       "\n",
       "                                     intent                 type  \\\n",
       "0              define_broken_access_control  basic_understanding   \n",
       "1          importance_broken_access_control  basic_understanding   \n",
       "2            examples_broken_access_control  basic_understanding   \n",
       "3  difference_access_control_authentication  basic_understanding   \n",
       "4                  access_control_sdlc_role  basic_understanding   \n",
       "\n",
       "     source_file             category  \n",
       "0  A01_2021.json  basic_understanding  \n",
       "1  A01_2021.json  basic_understanding  \n",
       "2  A01_2021.json  basic_understanding  \n",
       "3  A01_2021.json  basic_understanding  \n",
       "4  A01_2021.json  basic_understanding  "
      ]
     },
     "metadata": {},
     "output_type": "display_data"
    }
   ],
   "source": [
    "# Convert to DataFrame\n",
    "df = pd.DataFrame(all_qa_pairs)\n",
    "\n",
    "# Display basic info\n",
    "print(\"\\nDataset Overview:\")\n",
    "print(f\"Total QA pairs: {len(df)}\")\n",
    "print(f\"Categories: {df['category'].nunique()}\")\n",
    "print(f\"Source files: {df['source_file'].nunique()}\")\n",
    "print(\"\\nFirst few rows:\")\n",
    "display(df.head())"
   ]
  },
  {
   "cell_type": "code",
   "execution_count": 6,
   "id": "ee5d1b5e",
   "metadata": {},
   "outputs": [
    {
     "name": "stdout",
     "output_type": "stream",
     "text": [
      "\n",
      "Saved 2251 QA pairs to owasp_qa_pairs.csv\n"
     ]
    }
   ],
   "source": [
    "# Save to CSV if needed\n",
    "output_csv = \"owasp_qa_pairs.csv\"\n",
    "df.to_csv(output_csv, index=False)\n",
    "print(f\"\\nSaved {len(df)} QA pairs to {output_csv}\")"
   ]
  },
  {
   "cell_type": "code",
   "execution_count": 7,
   "id": "3d15ae02",
   "metadata": {},
   "outputs": [
    {
     "name": "stdout",
     "output_type": "stream",
     "text": [
      "\n",
      "Category Distribution:\n",
      "category\n",
      "proactive                       320\n",
      "prevention                      313\n",
      "example_scenarios               290\n",
      "vulnerability_identification    277\n",
      "basic_understanding             270\n",
      "technical                       265\n",
      "statistics                      260\n",
      "reference                       256\n",
      "Name: count, dtype: int64\n"
     ]
    }
   ],
   "source": [
    "# Additional analysis\n",
    "print(\"\\nCategory Distribution:\")\n",
    "print(df['category'].value_counts())"
   ]
  },
  {
   "cell_type": "code",
   "execution_count": 8,
   "id": "e0fa44a4",
   "metadata": {},
   "outputs": [
    {
     "name": "stdout",
     "output_type": "stream",
     "text": [
      "\n",
      "Missing values per column:\n",
      "id             0\n",
      "question       0\n",
      "answer         0\n",
      "intent         0\n",
      "type           0\n",
      "source_file    0\n",
      "category       0\n",
      "dtype: int64\n"
     ]
    }
   ],
   "source": [
    "# Check for missing values\n",
    "print(\"\\nMissing values per column:\")\n",
    "print(df.isnull().sum())"
   ]
  },
  {
   "cell_type": "code",
   "execution_count": null,
   "id": "8dc14c8a",
   "metadata": {},
   "outputs": [],
   "source": []
  }
 ],
 "metadata": {
  "kernelspec": {
   "display_name": "chatbot-env",
   "language": "python",
   "name": "chatbot-env"
  },
  "language_info": {
   "codemirror_mode": {
    "name": "ipython",
    "version": 3
   },
   "file_extension": ".py",
   "mimetype": "text/x-python",
   "name": "python",
   "nbconvert_exporter": "python",
   "pygments_lexer": "ipython3",
   "version": "3.13.4"
  }
 },
 "nbformat": 4,
 "nbformat_minor": 5
}
